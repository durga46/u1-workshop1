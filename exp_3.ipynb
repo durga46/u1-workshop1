{
  "nbformat": 4,
  "nbformat_minor": 0,
  "metadata": {
    "colab": {
      "provenance": [],
      "authorship_tag": "ABX9TyN/6DJnaDPnSrEnLLh9kXJW",
      "include_colab_link": true
    },
    "kernelspec": {
      "name": "python3",
      "display_name": "Python 3"
    },
    "language_info": {
      "name": "python"
    }
  },
  "cells": [
    {
      "cell_type": "markdown",
      "metadata": {
        "id": "view-in-github",
        "colab_type": "text"
      },
      "source": [
        "<a href=\"https://colab.research.google.com/github/durga46/u1-workshop1/blob/main/exp_3.ipynb\" target=\"_parent\"><img src=\"https://colab.research.google.com/assets/colab-badge.svg\" alt=\"Open In Colab\"/></a>"
      ]
    },
    {
      "cell_type": "code",
      "execution_count": 1,
      "metadata": {
        "id": "qbnTWjnb-A0M"
      },
      "outputs": [],
      "source": [
        "import numpy as np\n",
        "from tensorflow import keras\n",
        "from tensorflow.keras import layers\n",
        "from tensorflow.keras.datasets import mnist\n",
        "import tensorflow as tf\n",
        "import matplotlib.pyplot as plt\n",
        "from tensorflow.keras import utils\n",
        "import pandas as pd\n",
        "from sklearn.metrics import classification_report,confusion_matrix\n",
        "from tensorflow.keras.preprocessing import image"
      ]
    },
    {
      "cell_type": "code",
      "source": [
        "(X_train, y_train), (X_test, y_test) = mnist.load_data()\n"
      ],
      "metadata": {
        "colab": {
          "base_uri": "https://localhost:8080/"
        },
        "id": "FeAx9yPx-B5x",
        "outputId": "13e75324-8ff6-4306-a79c-98d81fe15007"
      },
      "execution_count": 2,
      "outputs": [
        {
          "output_type": "stream",
          "name": "stdout",
          "text": [
            "Downloading data from https://storage.googleapis.com/tensorflow/tf-keras-datasets/mnist.npz\n",
            "11493376/11490434 [==============================] - 0s 0us/step\n",
            "11501568/11490434 [==============================] - 0s 0us/step\n"
          ]
        }
      ]
    },
    {
      "cell_type": "code",
      "source": [
        "X_train.shape\n"
      ],
      "metadata": {
        "colab": {
          "base_uri": "https://localhost:8080/"
        },
        "id": "ZV6OOYbA-Fvi",
        "outputId": "2177b50f-91dc-4229-cd04-c8bad3d1b136"
      },
      "execution_count": 3,
      "outputs": [
        {
          "output_type": "execute_result",
          "data": {
            "text/plain": [
              "(60000, 28, 28)"
            ]
          },
          "metadata": {},
          "execution_count": 3
        }
      ]
    },
    {
      "cell_type": "code",
      "source": [
        "X_test.shape\n"
      ],
      "metadata": {
        "colab": {
          "base_uri": "https://localhost:8080/"
        },
        "id": "qBWhqEd_-Ja2",
        "outputId": "cdd98bb4-06a0-4cdc-9452-994f2aa84979"
      },
      "execution_count": 4,
      "outputs": [
        {
          "output_type": "execute_result",
          "data": {
            "text/plain": [
              "(10000, 28, 28)"
            ]
          },
          "metadata": {},
          "execution_count": 4
        }
      ]
    },
    {
      "cell_type": "code",
      "source": [
        "single_image= X_train[3000]\n"
      ],
      "metadata": {
        "id": "Y5jfQODf-U83"
      },
      "execution_count": 110,
      "outputs": []
    },
    {
      "cell_type": "code",
      "source": [
        "single_image.shape\n"
      ],
      "metadata": {
        "colab": {
          "base_uri": "https://localhost:8080/"
        },
        "id": "2V2CEile-XO_",
        "outputId": "d5708db8-acb3-45dd-c53c-72336cf5388c"
      },
      "execution_count": 111,
      "outputs": [
        {
          "output_type": "execute_result",
          "data": {
            "text/plain": [
              "(28, 28)"
            ]
          },
          "metadata": {},
          "execution_count": 111
        }
      ]
    },
    {
      "cell_type": "code",
      "source": [
        "plt.imshow(single_image,cmap='gray')\n"
      ],
      "metadata": {
        "colab": {
          "base_uri": "https://localhost:8080/",
          "height": 282
        },
        "id": "s8ymj5lD-aAH",
        "outputId": "8f31428a-e781-4117-f64a-25830fe9e9bd"
      },
      "execution_count": 112,
      "outputs": [
        {
          "output_type": "execute_result",
          "data": {
            "text/plain": [
              "<matplotlib.image.AxesImage at 0x7f1cac8780d0>"
            ]
          },
          "metadata": {},
          "execution_count": 112
        },
        {
          "output_type": "display_data",
          "data": {
            "text/plain": [
              "<Figure size 432x288 with 1 Axes>"
            ],
            "image/png": "[encoded data removed]"
          },
          "metadata": {
            "needs_background": "light"
          }
        }
      ]
    },
    {
      "cell_type": "code",
      "source": [
        "y_train.shape\n"
      ],
      "metadata": {
        "colab": {
          "base_uri": "https://localhost:8080/"
        },
        "id": "b0PjXXyz-e0f",
        "outputId": "5b2257a4-94a7-4686-bef5-095947fe4bd6"
      },
      "execution_count": 113,
      "outputs": [
        {
          "output_type": "execute_result",
          "data": {
            "text/plain": [
              "(60000,)"
            ]
          },
          "metadata": {},
          "execution_count": 113
        }
      ]
    },
    {
      "cell_type": "code",
      "source": [
        "y_train[3000]"
      ],
      "metadata": {
        "colab": {
          "base_uri": "https://localhost:8080/"
        },
        "id": "_bW0AOEIDdDw",
        "outputId": "222a029b-34b3-4298-da8a-3681a69d8310"
      },
      "execution_count": 114,
      "outputs": [
        {
          "output_type": "execute_result",
          "data": {
            "text/plain": [
              "9"
            ]
          },
          "metadata": {},
          "execution_count": 114
        }
      ]
    },
    {
      "cell_type": "code",
      "source": [
        "X_train.min()\n"
      ],
      "metadata": {
        "colab": {
          "base_uri": "https://localhost:8080/"
        },
        "id": "LZ0uKoK_-h_m",
        "outputId": "caebb0c5-231c-4d34-8a42-5786cf651939"
      },
      "execution_count": 115,
      "outputs": [
        {
          "output_type": "execute_result",
          "data": {
            "text/plain": [
              "0"
            ]
          },
          "metadata": {},
          "execution_count": 115
        }
      ]
    },
    {
      "cell_type": "code",
      "source": [
        "X_train.max()\n"
      ],
      "metadata": {
        "colab": {
          "base_uri": "https://localhost:8080/"
        },
        "id": "550uuk66-kKg",
        "outputId": "81f7e2ff-9d38-4cfb-957b-941754f0d8a1"
      },
      "execution_count": 116,
      "outputs": [
        {
          "output_type": "execute_result",
          "data": {
            "text/plain": [
              "255"
            ]
          },
          "metadata": {},
          "execution_count": 116
        }
      ]
    },
    {
      "cell_type": "code",
      "source": [
        "X_train_scaled = X_train/255.0\n",
        "X_test_scaled = X_test/255.0\n"
      ],
      "metadata": {
        "id": "luzJJV_H-nM-"
      },
      "execution_count": 117,
      "outputs": []
    },
    {
      "cell_type": "code",
      "source": [
        "X_train_scaled.min()\n"
      ],
      "metadata": {
        "colab": {
          "base_uri": "https://localhost:8080/"
        },
        "id": "YQ49VA-p-rN_",
        "outputId": "3d30cc1c-63ba-4b7e-efc5-53b307e918a2"
      },
      "execution_count": 118,
      "outputs": [
        {
          "output_type": "execute_result",
          "data": {
            "text/plain": [
              "0.0"
            ]
          },
          "metadata": {},
          "execution_count": 118
        }
      ]
    },
    {
      "cell_type": "code",
      "source": [
        "X_train_scaled.max()"
      ],
      "metadata": {
        "colab": {
          "base_uri": "https://localhost:8080/"
        },
        "id": "PQCPABtd-wM2",
        "outputId": "68157dbb-bbcc-484c-81b5-67072c0d8475"
      },
      "execution_count": 119,
      "outputs": [
        {
          "output_type": "execute_result",
          "data": {
            "text/plain": [
              "1.0"
            ]
          },
          "metadata": {},
          "execution_count": 119
        }
      ]
    },
    {
      "cell_type": "code",
      "source": [
        "y_train[0]\n"
      ],
      "metadata": {
        "colab": {
          "base_uri": "https://localhost:8080/"
        },
        "id": "shjjwMRd_CuH",
        "outputId": "d97a62ed-dde2-463d-f54d-bdf0a121073a"
      },
      "execution_count": 120,
      "outputs": [
        {
          "output_type": "execute_result",
          "data": {
            "text/plain": [
              "5"
            ]
          },
          "metadata": {},
          "execution_count": 120
        }
      ]
    },
    {
      "cell_type": "code",
      "source": [
        "y_train_onehot = utils.to_categorical(y_train,10)\n",
        "y_test_onehot = utils.to_categorical(y_test,10)\n"
      ],
      "metadata": {
        "id": "N96Md-ax_FXX"
      },
      "execution_count": 121,
      "outputs": []
    },
    {
      "cell_type": "code",
      "source": [
        "type(y_train_onehot)\n"
      ],
      "metadata": {
        "colab": {
          "base_uri": "https://localhost:8080/"
        },
        "id": "MT5hcxL-_KA3",
        "outputId": "60de43ec-e40e-4676-bf62-0c8fef1991a4"
      },
      "execution_count": 122,
      "outputs": [
        {
          "output_type": "execute_result",
          "data": {
            "text/plain": [
              "numpy.ndarray"
            ]
          },
          "metadata": {},
          "execution_count": 122
        }
      ]
    },
    {
      "cell_type": "code",
      "source": [
        "y_train_onehot.shape"
      ],
      "metadata": {
        "colab": {
          "base_uri": "https://localhost:8080/"
        },
        "id": "wF7B0vhv_MUO",
        "outputId": "4b106b0b-f99e-416a-f8fc-2478f07adcba"
      },
      "execution_count": 123,
      "outputs": [
        {
          "output_type": "execute_result",
          "data": {
            "text/plain": [
              "(60000, 10)"
            ]
          },
          "metadata": {},
          "execution_count": 123
        }
      ]
    },
    {
      "cell_type": "code",
      "source": [
        "single_image = X_train[300]\n",
        "plt.imshow(single_image,cmap='gray')"
      ],
      "metadata": {
        "colab": {
          "base_uri": "https://localhost:8080/",
          "height": 282
        },
        "id": "MgGwyVzV_PAf",
        "outputId": "851adc00-e8b0-4604-fd3a-f3411c996478"
      },
      "execution_count": 124,
      "outputs": [
        {
          "output_type": "execute_result",
          "data": {
            "text/plain": [
              "<matplotlib.image.AxesImage at 0x7f1cac85a810>"
            ]
          },
          "metadata": {},
          "execution_count": 124
        },
        {
          "output_type": "display_data",
          "data": {
            "text/plain": [
              "<Figure size 432x288 with 1 Axes>"
            ],
            "image/png": "[encoded data removed]"
          },
          "metadata": {
            "needs_background": "light"
          }
        }
      ]
    },
    {
      "cell_type": "code",
      "source": [
        "y_train_onehot[300]\n"
      ],
      "metadata": {
        "colab": {
          "base_uri": "https://localhost:8080/"
        },
        "id": "X5xt874P_WH-",
        "outputId": "4a370cde-4a18-4744-aafd-1d669f7d539a"
      },
      "execution_count": 125,
      "outputs": [
        {
          "output_type": "execute_result",
          "data": {
            "text/plain": [
              "array([0., 0., 0., 0., 0., 0., 0., 0., 1., 0.], dtype=float32)"
            ]
          },
          "metadata": {},
          "execution_count": 125
        }
      ]
    },
    {
      "cell_type": "code",
      "source": [
        "X_train_scaled = X_train_scaled.reshape(-1,28,28,1)\n",
        "X_test_scaled = X_test_scaled.reshape(-1,28,28,1)"
      ],
      "metadata": {
        "id": "twK0CQft_aSO"
      },
      "execution_count": 126,
      "outputs": []
    },
    {
      "cell_type": "code",
      "source": [
        "X_train_scaled.shape"
      ],
      "metadata": {
        "colab": {
          "base_uri": "https://localhost:8080/"
        },
        "id": "QMKET9LJ_lIG",
        "outputId": "31413bc2-72b3-462e-d357-a9647f95cbab"
      },
      "execution_count": 127,
      "outputs": [
        {
          "output_type": "execute_result",
          "data": {
            "text/plain": [
              "(60000, 28, 28, 1)"
            ]
          },
          "metadata": {},
          "execution_count": 127
        }
      ]
    },
    {
      "cell_type": "code",
      "source": [
        "model = keras.Sequential()\n",
        "model.add(layers.Input(shape=(28,28,1)))\n",
        "model.add(layers.Conv2D(filters=32,kernel_size=(3,3),activation='relu'))\n",
        "model.add(layers.MaxPool2D(pool_size=(2,2)))\n",
        "model.add(layers.Flatten())\n",
        "model.add(layers.Dense(32,activation='relu'))\n",
        "model.add(layers.Dense(10,activation='softmax'))\n",
        "\n"
      ],
      "metadata": {
        "id": "-piwuzsjGlHu"
      },
      "execution_count": 130,
      "outputs": []
    },
    {
      "cell_type": "code",
      "source": [
        "model.summary()"
      ],
      "metadata": {
        "colab": {
          "base_uri": "https://localhost:8080/"
        },
        "id": "T3g2bvpzI0Qv",
        "outputId": "a284c864-2631-4593-9a7b-09b09f0d3c7a"
      },
      "execution_count": 131,
      "outputs": [
        {
          "output_type": "stream",
          "name": "stdout",
          "text": [
            "Model: \"sequential_5\"\n",
            "_________________________________________________________________\n",
            " Layer (type)                Output Shape              Param #   \n",
            "=================================================================\n",
            " conv2d_3 (Conv2D)           (None, 26, 26, 32)        320       \n",
            "                                                                 \n",
            " max_pooling2d (MaxPooling2D  (None, 13, 13, 32)       0         \n",
            " )                                                               \n",
            "                                                                 \n",
            " flatten (Flatten)           (None, 5408)              0         \n",
            "                                                                 \n",
            " dense (Dense)               (None, 32)                173088    \n",
            "                                                                 \n",
            " dense_1 (Dense)             (None, 10)                330       \n",
            "                                                                 \n",
            "=================================================================\n",
            "Total params: 173,738\n",
            "Trainable params: 173,738\n",
            "Non-trainable params: 0\n",
            "_________________________________________________________________\n"
          ]
        }
      ]
    },
    {
      "cell_type": "code",
      "source": [
        "model.compile(loss='categorical_crossentropy',\n",
        "              optimizer='adam',\n",
        "              metrics='accuracy')"
      ],
      "metadata": {
        "id": "Q3FtVcDCPLEm"
      },
      "execution_count": 134,
      "outputs": []
    },
    {
      "cell_type": "code",
      "source": [
        "model.fit(X_train_scaled ,y_train_onehot, epochs=50,\n",
        "          batch_size=64, \n",
        "          validation_data=(X_test_scaled,y_test_onehot))"
      ],
      "metadata": {
        "colab": {
          "base_uri": "https://localhost:8080/"
        },
        "id": "t_McwZUzPYRA",
        "outputId": "5039f094-1520-4e01-a5ef-ad8231005688"
      },
      "execution_count": 168,
      "outputs": [
        {
          "output_type": "stream",
          "name": "stdout",
          "text": [
            "Epoch 1/50\n",
            "938/938 [==============================] - 28s 30ms/step - loss: 0.0103 - accuracy: 0.9967 - val_loss: 0.0573 - val_accuracy: 0.9847\n",
            "Epoch 2/50\n",
            "938/938 [==============================] - 28s 30ms/step - loss: 0.0096 - accuracy: 0.9969 - val_loss: 0.0569 - val_accuracy: 0.9848\n",
            "Epoch 3/50\n",
            "938/938 [==============================] - 28s 30ms/step - loss: 0.0067 - accuracy: 0.9981 - val_loss: 0.0640 - val_accuracy: 0.9845\n",
            "Epoch 4/50\n",
            "938/938 [==============================] - 28s 30ms/step - loss: 0.0066 - accuracy: 0.9979 - val_loss: 0.0593 - val_accuracy: 0.9847\n",
            "Epoch 5/50\n",
            "938/938 [==============================] - 29s 31ms/step - loss: 0.0057 - accuracy: 0.9980 - val_loss: 0.0717 - val_accuracy: 0.9840\n",
            "Epoch 6/50\n",
            "938/938 [==============================] - 28s 30ms/step - loss: 0.0058 - accuracy: 0.9981 - val_loss: 0.0768 - val_accuracy: 0.9831\n",
            "Epoch 7/50\n",
            "938/938 [==============================] - 28s 30ms/step - loss: 0.0043 - accuracy: 0.9987 - val_loss: 0.0756 - val_accuracy: 0.9849\n",
            "Epoch 8/50\n",
            "938/938 [==============================] - 28s 30ms/step - loss: 0.0029 - accuracy: 0.9993 - val_loss: 0.0790 - val_accuracy: 0.9831\n",
            "Epoch 9/50\n",
            "938/938 [==============================] - 29s 31ms/step - loss: 0.0050 - accuracy: 0.9984 - val_loss: 0.0793 - val_accuracy: 0.9827\n",
            "Epoch 10/50\n",
            "938/938 [==============================] - 30s 32ms/step - loss: 0.0031 - accuracy: 0.9990 - val_loss: 0.0788 - val_accuracy: 0.9825\n",
            "Epoch 11/50\n",
            "938/938 [==============================] - 28s 30ms/step - loss: 0.0034 - accuracy: 0.9989 - val_loss: 0.0775 - val_accuracy: 0.9850\n",
            "Epoch 12/50\n",
            "938/938 [==============================] - 29s 31ms/step - loss: 0.0026 - accuracy: 0.9991 - val_loss: 0.0833 - val_accuracy: 0.9832\n",
            "Epoch 13/50\n",
            "938/938 [==============================] - 28s 30ms/step - loss: 0.0032 - accuracy: 0.9990 - val_loss: 0.0793 - val_accuracy: 0.9847\n",
            "Epoch 14/50\n",
            "938/938 [==============================] - 28s 30ms/step - loss: 0.0027 - accuracy: 0.9991 - val_loss: 0.0779 - val_accuracy: 0.9858\n",
            "Epoch 15/50\n",
            "938/938 [==============================] - 28s 30ms/step - loss: 0.0021 - accuracy: 0.9994 - val_loss: 0.0899 - val_accuracy: 0.9840\n",
            "Epoch 16/50\n",
            "938/938 [==============================] - 28s 30ms/step - loss: 0.0019 - accuracy: 0.9994 - val_loss: 0.0790 - val_accuracy: 0.9865\n",
            "Epoch 17/50\n",
            "938/938 [==============================] - 28s 30ms/step - loss: 0.0032 - accuracy: 0.9990 - val_loss: 0.0775 - val_accuracy: 0.9849\n",
            "Epoch 18/50\n",
            "938/938 [==============================] - 28s 30ms/step - loss: 0.0024 - accuracy: 0.9992 - val_loss: 0.0754 - val_accuracy: 0.9855\n",
            "Epoch 19/50\n",
            "938/938 [==============================] - 29s 31ms/step - loss: 9.0613e-04 - accuracy: 0.9998 - val_loss: 0.0826 - val_accuracy: 0.9851\n",
            "Epoch 20/50\n",
            "938/938 [==============================] - 28s 30ms/step - loss: 0.0025 - accuracy: 0.9992 - val_loss: 0.0871 - val_accuracy: 0.9849\n",
            "Epoch 21/50\n",
            "938/938 [==============================] - 28s 30ms/step - loss: 0.0022 - accuracy: 0.9993 - val_loss: 0.0836 - val_accuracy: 0.9850\n",
            "Epoch 22/50\n",
            "938/938 [==============================] - 28s 30ms/step - loss: 9.5764e-04 - accuracy: 0.9998 - val_loss: 0.0778 - val_accuracy: 0.9861\n",
            "Epoch 23/50\n",
            "938/938 [==============================] - 28s 30ms/step - loss: 0.0029 - accuracy: 0.9991 - val_loss: 0.0871 - val_accuracy: 0.9846\n",
            "Epoch 24/50\n",
            "938/938 [==============================] - 28s 30ms/step - loss: 0.0024 - accuracy: 0.9993 - val_loss: 0.0866 - val_accuracy: 0.9857\n",
            "Epoch 25/50\n",
            "938/938 [==============================] - 28s 30ms/step - loss: 0.0016 - accuracy: 0.9996 - val_loss: 0.0859 - val_accuracy: 0.9856\n",
            "Epoch 26/50\n",
            "938/938 [==============================] - 29s 31ms/step - loss: 6.0791e-04 - accuracy: 0.9998 - val_loss: 0.0856 - val_accuracy: 0.9853\n",
            "Epoch 27/50\n",
            "938/938 [==============================] - 28s 30ms/step - loss: 9.5504e-05 - accuracy: 1.0000 - val_loss: 0.0846 - val_accuracy: 0.9861\n",
            "Epoch 28/50\n",
            "938/938 [==============================] - 28s 30ms/step - loss: 2.7919e-05 - accuracy: 1.0000 - val_loss: 0.0859 - val_accuracy: 0.9863\n",
            "Epoch 29/50\n",
            "938/938 [==============================] - 28s 30ms/step - loss: 1.5911e-05 - accuracy: 1.0000 - val_loss: 0.0864 - val_accuracy: 0.9866\n",
            "Epoch 30/50\n",
            "938/938 [==============================] - 28s 30ms/step - loss: 1.1017e-05 - accuracy: 1.0000 - val_loss: 0.0878 - val_accuracy: 0.9864\n",
            "Epoch 31/50\n",
            "938/938 [==============================] - 28s 30ms/step - loss: 7.9731e-06 - accuracy: 1.0000 - val_loss: 0.0895 - val_accuracy: 0.9867\n",
            "Epoch 32/50\n",
            "938/938 [==============================] - 28s 29ms/step - loss: 5.8705e-06 - accuracy: 1.0000 - val_loss: 0.0913 - val_accuracy: 0.9867\n",
            "Epoch 33/50\n",
            "938/938 [==============================] - 29s 31ms/step - loss: 4.4788e-06 - accuracy: 1.0000 - val_loss: 0.0925 - val_accuracy: 0.9865\n",
            "Epoch 34/50\n",
            "938/938 [==============================] - 28s 30ms/step - loss: 3.4102e-06 - accuracy: 1.0000 - val_loss: 0.0951 - val_accuracy: 0.9868\n",
            "Epoch 35/50\n",
            "938/938 [==============================] - 28s 30ms/step - loss: 0.0063 - accuracy: 0.9981 - val_loss: 0.1004 - val_accuracy: 0.9845\n",
            "Epoch 36/50\n",
            "938/938 [==============================] - 28s 30ms/step - loss: 0.0014 - accuracy: 0.9996 - val_loss: 0.0928 - val_accuracy: 0.9858\n",
            "Epoch 37/50\n",
            "938/938 [==============================] - 29s 31ms/step - loss: 3.6234e-04 - accuracy: 0.9999 - val_loss: 0.0948 - val_accuracy: 0.9855\n",
            "Epoch 38/50\n",
            "938/938 [==============================] - 28s 30ms/step - loss: 3.6379e-05 - accuracy: 1.0000 - val_loss: 0.0938 - val_accuracy: 0.9857\n",
            "Epoch 39/50\n",
            "938/938 [==============================] - 28s 30ms/step - loss: 1.7201e-05 - accuracy: 1.0000 - val_loss: 0.0943 - val_accuracy: 0.9861\n",
            "Epoch 40/50\n",
            "938/938 [==============================] - 29s 31ms/step - loss: 1.1822e-05 - accuracy: 1.0000 - val_loss: 0.0951 - val_accuracy: 0.9861\n",
            "Epoch 41/50\n",
            "938/938 [==============================] - 28s 30ms/step - loss: 8.2003e-06 - accuracy: 1.0000 - val_loss: 0.0961 - val_accuracy: 0.9860\n",
            "Epoch 42/50\n",
            "938/938 [==============================] - 28s 30ms/step - loss: 5.7974e-06 - accuracy: 1.0000 - val_loss: 0.0973 - val_accuracy: 0.9859\n",
            "Epoch 43/50\n",
            "938/938 [==============================] - 28s 30ms/step - loss: 4.0618e-06 - accuracy: 1.0000 - val_loss: 0.0989 - val_accuracy: 0.9861\n",
            "Epoch 44/50\n",
            "938/938 [==============================] - 28s 30ms/step - loss: 2.8873e-06 - accuracy: 1.0000 - val_loss: 0.1005 - val_accuracy: 0.9861\n",
            "Epoch 45/50\n",
            "938/938 [==============================] - 28s 30ms/step - loss: 2.0569e-06 - accuracy: 1.0000 - val_loss: 0.1022 - val_accuracy: 0.9863\n",
            "Epoch 46/50\n",
            "938/938 [==============================] - 28s 30ms/step - loss: 0.0039 - accuracy: 0.9989 - val_loss: 0.1097 - val_accuracy: 0.9840\n",
            "Epoch 47/50\n",
            "938/938 [==============================] - 29s 31ms/step - loss: 0.0041 - accuracy: 0.9985 - val_loss: 0.1048 - val_accuracy: 0.9850\n",
            "Epoch 48/50\n",
            "938/938 [==============================] - 28s 30ms/step - loss: 6.6779e-04 - accuracy: 0.9998 - val_loss: 0.0925 - val_accuracy: 0.9863\n",
            "Epoch 49/50\n",
            "938/938 [==============================] - 28s 30ms/step - loss: 5.7337e-05 - accuracy: 1.0000 - val_loss: 0.0971 - val_accuracy: 0.9860\n",
            "Epoch 50/50\n",
            "938/938 [==============================] - 28s 30ms/step - loss: 1.7651e-05 - accuracy: 1.0000 - val_loss: 0.0967 - val_accuracy: 0.9859\n"
          ]
        },
        {
          "output_type": "execute_result",
          "data": {
            "text/plain": [
              "<keras.callbacks.History at 0x7f1ca8ac6c50>"
            ]
          },
          "metadata": {},
          "execution_count": 168
        }
      ]
    },
    {
      "cell_type": "code",
      "source": [
        "metrics = pd.DataFrame(model.history.history)"
      ],
      "metadata": {
        "id": "HvzuOjd3QyWt"
      },
      "execution_count": 169,
      "outputs": []
    },
    {
      "cell_type": "code",
      "source": [
        "metrics.head()\n"
      ],
      "metadata": {
        "colab": {
          "base_uri": "https://localhost:8080/",
          "height": 206
        },
        "id": "iD0ZsRAAPj0m",
        "outputId": "ca716d53-206d-4ff1-a656-b01f2c941197"
      },
      "execution_count": 171,
      "outputs": [
        {
          "output_type": "execute_result",
          "data": {
            "text/plain": [
              "       loss  accuracy  val_loss  val_accuracy\n",
              "0  0.010327  0.996717  0.057326        0.9847\n",
              "1  0.009557  0.996867  0.056857        0.9848\n",
              "2  0.006688  0.998117  0.063969        0.9845\n",
              "3  0.006623  0.997900  0.059312        0.9847\n",
              "4  0.005666  0.998017  0.071723        0.9840"
            ],
            "text/html": [
              "\n",
              "  <div id=\"df-6b08307e-c823-4501-9b38-89e12ab520a4\">\n",
              "    <div class=\"colab-df-container\">\n",
              "      <div>\n",
              "<style scoped>\n",
              "    .dataframe tbody tr th:only-of-type {\n",
              "        vertical-align: middle;\n",
              "    }\n",
              "\n",
              "    .dataframe tbody tr th {\n",
              "        vertical-align: top;\n",
              "    }\n",
              "\n",
              "    .dataframe thead th {\n",
              "        text-align: right;\n",
              "    }\n",
              "</style>\n",
              "<table border=\"1\" class=\"dataframe\">\n",
              "  <thead>\n",
              "    <tr style=\"text-align: right;\">\n",
              "      <th></th>\n",
              "      <th>loss</th>\n",
              "      <th>accuracy</th>\n",
              "      <th>val_loss</th>\n",
              "      <th>val_accuracy</th>\n",
              "    </tr>\n",
              "  </thead>\n",
              "  <tbody>\n",
              "    <tr>\n",
              "      <th>0</th>\n",
              "      <td>0.010327</td>\n",
              "      <td>0.996717</td>\n",
              "      <td>0.057326</td>\n",
              "      <td>0.9847</td>\n",
              "    </tr>\n",
              "    <tr>\n",
              "      <th>1</th>\n",
              "      <td>0.009557</td>\n",
              "      <td>0.996867</td>\n",
              "      <td>0.056857</td>\n",
              "      <td>0.9848</td>\n",
              "    </tr>\n",
              "    <tr>\n",
              "      <th>2</th>\n",
              "      <td>0.006688</td>\n",
              "      <td>0.998117</td>\n",
              "      <td>0.063969</td>\n",
              "      <td>0.9845</td>\n",
              "    </tr>\n",
              "    <tr>\n",
              "      <th>3</th>\n",
              "      <td>0.006623</td>\n",
              "      <td>0.997900</td>\n",
              "      <td>0.059312</td>\n",
              "      <td>0.9847</td>\n",
              "    </tr>\n",
              "    <tr>\n",
              "      <th>4</th>\n",
              "      <td>0.005666</td>\n",
              "      <td>0.998017</td>\n",
              "      <td>0.071723</td>\n",
              "      <td>0.9840</td>\n",
              "    </tr>\n",
              "  </tbody>\n",
              "</table>\n",
              "</div>\n",
              "      <button class=\"colab-df-convert\" onclick=\"convertToInteractive('df-6b08307e-c823-4501-9b38-89e12ab520a4')\"\n",
              "              title=\"Convert this dataframe to an interactive table.\"\n",
              "              style=\"display:none;\">\n",
              "        \n",
              "  <svg xmlns=\"http://www.w3.org/2000/svg\" height=\"24px\"viewBox=\"0 0 24 24\"\n",
              "       width=\"24px\">\n",
              "    <path d=\"M0 0h24v24H0V0z\" fill=\"none\"/>\n",
              "    <path d=\"M18.56 5.44l.94 2.06.94-2.06 2.06-.94-2.06-.94-.94-2.06-.94 2.06-2.06.94zm-11 1L8.5 8.5l.94-2.06 2.06-.94-2.06-.94L8.5 2.5l-.94 2.06-2.06.94zm10 10l.94 2.06.94-2.06 2.06-.94-2.06-.94-.94-2.06-.94 2.06-2.06.94z\"/><path d=\"M17.41 7.96l-1.37-1.37c-.4-.4-.92-.59-1.43-.59-.52 0-1.04.2-1.43.59L10.3 9.45l-7.72 7.72c-.78.78-.78 2.05 0 2.83L4 21.41c.39.39.9.59 1.41.59.51 0 1.02-.2 1.41-.59l7.78-7.78 2.81-2.81c.8-.78.8-2.07 0-2.86zM5.41 20L4 18.59l7.72-7.72 1.47 1.35L5.41 20z\"/>\n",
              "  </svg>\n",
              "      </button>\n",
              "      \n",
              "  <style>\n",
              "    .colab-df-container {\n",
              "      display:flex;\n",
              "      flex-wrap:wrap;\n",
              "      gap: 12px;\n",
              "    }\n",
              "\n",
              "    .colab-df-convert {\n",
              "      background-color: #E8F0FE;\n",
              "      border: none;\n",
              "      border-radius: 50%;\n",
              "      cursor: pointer;\n",
              "      display: none;\n",
              "      fill: #1967D2;\n",
              "      height: 32px;\n",
              "      padding: 0 0 0 0;\n",
              "      width: 32px;\n",
              "    }\n",
              "\n",
              "    .colab-df-convert:hover {\n",
              "      background-color: #E2EBFA;\n",
              "      box-shadow: 0px 1px 2px rgba(60, 64, 67, 0.3), 0px 1px 3px 1px rgba(60, 64, 67, 0.15);\n",
              "      fill: #174EA6;\n",
              "    }\n",
              "\n",
              "    [theme=dark] .colab-df-convert {\n",
              "      background-color: #3B4455;\n",
              "      fill: #D2E3FC;\n",
              "    }\n",
              "\n",
              "    [theme=dark] .colab-df-convert:hover {\n",
              "      background-color: #434B5C;\n",
              "      box-shadow: 0px 1px 3px 1px rgba(0, 0, 0, 0.15);\n",
              "      filter: drop-shadow(0px 1px 2px rgba(0, 0, 0, 0.3));\n",
              "      fill: #FFFFFF;\n",
              "    }\n",
              "  </style>\n",
              "\n",
              "      <script>\n",
              "        const buttonEl =\n",
              "          document.querySelector('#df-6b08307e-c823-4501-9b38-89e12ab520a4 button.colab-df-convert');\n",
              "        buttonEl.style.display =\n",
              "          google.colab.kernel.accessAllowed ? 'block' : 'none';\n",
              "\n",
              "        async function convertToInteractive(key) {\n",
              "          const element = document.querySelector('#df-6b08307e-c823-4501-9b38-89e12ab520a4');\n",
              "          const dataTable =\n",
              "            await google.colab.kernel.invokeFunction('convertToInteractive',\n",
              "                                                     [key], {});\n",
              "          if (!dataTable) return;\n",
              "\n",
              "          const docLinkHtml = 'Like what you see? Visit the ' +\n",
              "            '<a target=\"_blank\" href=https://colab.research.google.com/notebooks/data_table.ipynb>data table notebook</a>'\n",
              "            + ' to learn more about interactive tables.';\n",
              "          element.innerHTML = '';\n",
              "          dataTable['output_type'] = 'display_data';\n",
              "          await google.colab.output.renderOutput(dataTable, element);\n",
              "          const docLink = document.createElement('div');\n",
              "          docLink.innerHTML = docLinkHtml;\n",
              "          element.appendChild(docLink);\n",
              "        }\n",
              "      </script>\n",
              "    </div>\n",
              "  </div>\n",
              "  "
            ]
          },
          "metadata": {},
          "execution_count": 171
        }
      ]
    },
    {
      "cell_type": "code",
      "source": [
        "metrics[['accuracy','val_accuracy']].plot()\n"
      ],
      "metadata": {
        "colab": {
          "base_uri": "https://localhost:8080/",
          "height": 282
        },
        "id": "yOGDeW8wRpzf",
        "outputId": "508f24cc-d3b4-4fd7-ec12-7a347a1cfa53"
      },
      "execution_count": 172,
      "outputs": [
        {
          "output_type": "execute_result",
          "data": {
            "text/plain": [
              "<matplotlib.axes._subplots.AxesSubplot at 0x7f1cab52d810>"
            ]
          },
          "metadata": {},
          "execution_count": 172
        },
        {
          "output_type": "display_data",
          "data": {
            "text/plain": [
              "<Figure size 432x288 with 1 Axes>"
            ],
            "image/png": "[encoded data removed]"
          },
          "metadata": {
            "needs_background": "light"
          }
        }
      ]
    },
    {
      "cell_type": "code",
      "source": [
        "metrics[['loss','val_loss']].plot()\n"
      ],
      "metadata": {
        "colab": {
          "base_uri": "https://localhost:8080/",
          "height": 282
        },
        "id": "XCA76Xx8Rs3v",
        "outputId": "2f04d000-0105-4e3d-d5af-483973ee942b"
      },
      "execution_count": 173,
      "outputs": [
        {
          "output_type": "execute_result",
          "data": {
            "text/plain": [
              "<matplotlib.axes._subplots.AxesSubplot at 0x7f1cab4a3d10>"
            ]
          },
          "metadata": {},
          "execution_count": 173
        },
        {
          "output_type": "display_data",
          "data": {
            "text/plain": [
              "<Figure size 432x288 with 1 Axes>"
            ],
            "image/png": "[encoded data removed]"
          },
          "metadata": {
            "needs_background": "light"
          }
        }
      ]
    },
    {
      "cell_type": "code",
      "source": [
        "x_test_predictions = np.argmax(model.predict(X_test_scaled), axis=1)\n"
      ],
      "metadata": {
        "id": "-cYrqsXsRv62"
      },
      "execution_count": 174,
      "outputs": []
    },
    {
      "cell_type": "code",
      "source": [
        "print(confusion_matrix(y_test,x_test_predictions))\n"
      ],
      "metadata": {
        "colab": {
          "base_uri": "https://localhost:8080/"
        },
        "id": "zs_BwysKR15G",
        "outputId": "d5d2d6a9-c285-4206-951a-f6df86f5d746"
      },
      "execution_count": 175,
      "outputs": [
        {
          "output_type": "stream",
          "name": "stdout",
          "text": [
            "[[ 974    0    1    1    0    1    3    0    0    0]\n",
            " [   0 1128    4    0    0    0    2    1    0    0]\n",
            " [   2    1 1015    1    1    0    1    7    4    0]\n",
            " [   0    0    2  995    0    5    0    2    5    1]\n",
            " [   0    0    2    0  969    0    2    0    1    8]\n",
            " [   1    0    0    5    0  882    2    1    0    1]\n",
            " [   6    2    0    0    4    2  941    0    3    0]\n",
            " [   0    1    7    0    0    0    0 1011    3    6]\n",
            " [   3    0    2    1    0    3    0    4  956    5]\n",
            " [   2    1    0    3    7    1    0    5    2  988]]\n"
          ]
        }
      ]
    },
    {
      "cell_type": "code",
      "source": [
        "print(classification_report(y_test,x_test_predictions))\n"
      ],
      "metadata": {
        "colab": {
          "base_uri": "https://localhost:8080/"
        },
        "id": "Ll-wwjmFR4nu",
        "outputId": "443c96ca-4be7-48db-b309-3a5244d31fad"
      },
      "execution_count": 176,
      "outputs": [
        {
          "output_type": "stream",
          "name": "stdout",
          "text": [
            "              precision    recall  f1-score   support\n",
            "\n",
            "           0       0.99      0.99      0.99       980\n",
            "           1       1.00      0.99      0.99      1135\n",
            "           2       0.98      0.98      0.98      1032\n",
            "           3       0.99      0.99      0.99      1010\n",
            "           4       0.99      0.99      0.99       982\n",
            "           5       0.99      0.99      0.99       892\n",
            "           6       0.99      0.98      0.99       958\n",
            "           7       0.98      0.98      0.98      1028\n",
            "           8       0.98      0.98      0.98       974\n",
            "           9       0.98      0.98      0.98      1009\n",
            "\n",
            "    accuracy                           0.99     10000\n",
            "   macro avg       0.99      0.99      0.99     10000\n",
            "weighted avg       0.99      0.99      0.99     10000\n",
            "\n"
          ]
        }
      ]
    },
    {
      "cell_type": "code",
      "source": [
        "img = image.load_img('num1.jpeg')\n"
      ],
      "metadata": {
        "id": "0UZ-S10nR7df"
      },
      "execution_count": 192,
      "outputs": []
    },
    {
      "cell_type": "code",
      "source": [
        "type(img)\n"
      ],
      "metadata": {
        "colab": {
          "base_uri": "https://localhost:8080/"
        },
        "id": "4hdUO7jTSJR2",
        "outputId": "c9138133-51c4-4c28-e03d-cb7661facf2c"
      },
      "execution_count": 193,
      "outputs": [
        {
          "output_type": "execute_result",
          "data": {
            "text/plain": [
              "PIL.JpegImagePlugin.JpegImageFile"
            ]
          },
          "metadata": {},
          "execution_count": 193
        }
      ]
    },
    {
      "cell_type": "code",
      "source": [
        "img = image.load_img('num1.jpeg')\n",
        "img_tensor = tf.convert_to_tensor(np.asarray(img))\n",
        "img_28 = tf.image.resize(img_tensor,(28,28))\n",
        "img_28_gray = tf.image.rgb_to_grayscale(img_28)\n",
        "img_28_gray_scaled = img_28_gray.numpy()/255.0"
      ],
      "metadata": {
        "id": "rP6cMxS1SLlf"
      },
      "execution_count": 195,
      "outputs": []
    },
    {
      "cell_type": "code",
      "source": [
        "x_single_prediction = np.argmax(\n",
        "    model.predict(img_28_gray_scaled.reshape(1,28,28,1)),\n",
        "     axis=1)"
      ],
      "metadata": {
        "id": "Zk6tX9BvSRyP"
      },
      "execution_count": 196,
      "outputs": []
    },
    {
      "cell_type": "code",
      "source": [
        "\n",
        "print(x_single_prediction)"
      ],
      "metadata": {
        "colab": {
          "base_uri": "https://localhost:8080/"
        },
        "id": "QzbQOcgqSXVH",
        "outputId": "51a27c79-1979-460f-969c-9ef98607bac2"
      },
      "execution_count": 197,
      "outputs": [
        {
          "output_type": "stream",
          "name": "stdout",
          "text": [
            "[7]\n"
          ]
        }
      ]
    },
    {
      "cell_type": "code",
      "source": [
        "plt.imshow(img_28_gray_scaled.reshape(28,28),cmap='gray')\n"
      ],
      "metadata": {
        "colab": {
          "base_uri": "https://localhost:8080/",
          "height": 282
        },
        "id": "LoU1RwriSkBn",
        "outputId": "e8ccc9da-4b8e-4799-a640-a6079ad250eb"
      },
      "execution_count": 198,
      "outputs": [
        {
          "output_type": "execute_result",
          "data": {
            "text/plain": [
              "<matplotlib.image.AxesImage at 0x7f1cab38d210>"
            ]
          },
          "metadata": {},
          "execution_count": 198
        },
        {
          "output_type": "display_data",
          "data": {
            "text/plain": [
              "<Figure size 432x288 with 1 Axes>"
            ],
            "image/png": "[encoded data removed]"
          },
          "metadata": {
            "needs_background": "light"
          }
        }
      ]
    },
    {
      "cell_type": "code",
      "source": [
        "img_28_gray_inverted = 255.0-img_28_gray\n",
        "img_28_gray_inverted_scaled = img_28_gray_inverted.numpy()/255.0"
      ],
      "metadata": {
        "id": "2POyZQBKSntP"
      },
      "execution_count": 199,
      "outputs": []
    },
    {
      "cell_type": "code",
      "source": [
        "x_single_prediction = np.argmax(\n",
        "    model.predict(img_28_gray_inverted_scaled.reshape(1,28,28,1)),\n",
        "     axis=1)"
      ],
      "metadata": {
        "id": "X2RurneVStKW"
      },
      "execution_count": 200,
      "outputs": []
    },
    {
      "cell_type": "code",
      "source": [
        "print(x_single_prediction)"
      ],
      "metadata": {
        "colab": {
          "base_uri": "https://localhost:8080/"
        },
        "id": "B_zTOo17Svvm",
        "outputId": "fe7fb7f9-a0dd-4bb3-8d71-3d3870b67058"
      },
      "execution_count": 201,
      "outputs": [
        {
          "output_type": "stream",
          "name": "stdout",
          "text": [
            "[9]\n"
          ]
        }
      ]
    },
    {
      "cell_type": "code",
      "source": [],
      "metadata": {
        "id": "NbddoC4VSyaP"
      },
      "execution_count": null,
      "outputs": []
    }
  ]
}